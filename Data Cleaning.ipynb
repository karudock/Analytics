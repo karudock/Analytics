{
 "cells": [
  {
   "cell_type": "markdown",
   "metadata": {},
   "source": [
    "## Data Cleaning"
   ]
  },
  {
   "cell_type": "code",
   "execution_count": 21,
   "metadata": {},
   "outputs": [],
   "source": [
    "# import  stuff\n",
    "\n",
    "import numpy as np\n",
    "import pandas as pd\n",
    "import os\n",
    "import csv\n"
   ]
  },
  {
   "cell_type": "code",
   "execution_count": 22,
   "metadata": {},
   "outputs": [],
   "source": [
    "# read file\n",
    "\n",
    "os.chdir(r\"C:\\Users\\karud\\Documents\\MSA_Fall3\\MachineLearning\")\n",
    "\n",
    "data = pd.read_csv(r\"MLProject_train.csv\")\n"
   ]
  },
  {
   "cell_type": "markdown",
   "metadata": {},
   "source": [
    "### Table preparation\n",
    "- impute missing values"
   ]
  },
  {
   "cell_type": "code",
   "execution_count": 23,
   "metadata": {},
   "outputs": [
    {
     "data": {
      "text/plain": [
       "Index(['L6', 'M6', 'N6', 'T6', 'U6', 'V6', 'W6', 'X6'], dtype='object')"
      ]
     },
     "execution_count": 23,
     "metadata": {},
     "output_type": "execute_result"
    }
   ],
   "source": [
    "data.columns[data.isnull().any()]"
   ]
  },
  {
   "cell_type": "code",
   "execution_count": 24,
   "metadata": {},
   "outputs": [
    {
     "data": {
      "text/plain": [
       "Index([], dtype='object')"
      ]
     },
     "execution_count": 24,
     "metadata": {},
     "output_type": "execute_result"
    }
   ],
   "source": [
    "# get column names where null exists\n",
    "\n",
    "missing_cols = data.columns[data.isna().any()].tolist()\n",
    "\n",
    "# create flag for missing variables\n",
    "# impute\n",
    "\n",
    "for col in missing_cols:\n",
    "    data[col+\"_missing\"] = data[col].isnull().astype(int)\n",
    "    data=data.fillna(data.median())\n",
    "\n",
    "data.columns[data.isnull().any()] # none... it worked!"
   ]
  },
  {
   "cell_type": "markdown",
   "metadata": {},
   "source": [
    "### Table preparation\n",
    "- add dummy variables for categorical Z2"
   ]
  },
  {
   "cell_type": "code",
   "execution_count": 25,
   "metadata": {},
   "outputs": [],
   "source": [
    "# hot code the categorical variables!\n",
    "\n",
    "one_hot = pd.get_dummies(data['Z2'],prefix='Z2')\n",
    "\n",
    "# Drop original Z2 as it is now encoded\n",
    "\n",
    "# data = data.drop('Z2',axis = 1)\n",
    "\n",
    "# Join the encoded df\n",
    "data = data.join(one_hot)\n"
   ]
  },
  {
   "cell_type": "code",
   "execution_count": 8,
   "metadata": {},
   "outputs": [
    {
     "data": {
      "text/html": [
       "<div>\n",
       "<style scoped>\n",
       "    .dataframe tbody tr th:only-of-type {\n",
       "        vertical-align: middle;\n",
       "    }\n",
       "\n",
       "    .dataframe tbody tr th {\n",
       "        vertical-align: top;\n",
       "    }\n",
       "\n",
       "    .dataframe thead th {\n",
       "        text-align: right;\n",
       "    }\n",
       "</style>\n",
       "<table border=\"1\" class=\"dataframe\">\n",
       "  <thead>\n",
       "    <tr style=\"text-align: right;\">\n",
       "      <th></th>\n",
       "      <th>A1</th>\n",
       "      <th>B1</th>\n",
       "      <th>C1</th>\n",
       "      <th>D1</th>\n",
       "      <th>E1</th>\n",
       "      <th>F1</th>\n",
       "      <th>G1</th>\n",
       "      <th>H1</th>\n",
       "      <th>I1</th>\n",
       "      <th>J1</th>\n",
       "      <th>...</th>\n",
       "      <th>T6_missing</th>\n",
       "      <th>U6_missing</th>\n",
       "      <th>V6_missing</th>\n",
       "      <th>W6_missing</th>\n",
       "      <th>X6_missing</th>\n",
       "      <th>Z2_1</th>\n",
       "      <th>Z2_2</th>\n",
       "      <th>Z2_3</th>\n",
       "      <th>Z2_4</th>\n",
       "      <th>Z2_5</th>\n",
       "    </tr>\n",
       "  </thead>\n",
       "  <tbody>\n",
       "    <tr>\n",
       "      <th>count</th>\n",
       "      <td>4.830870e+05</td>\n",
       "      <td>483087.000000</td>\n",
       "      <td>483087.000000</td>\n",
       "      <td>483087.000000</td>\n",
       "      <td>483087.000000</td>\n",
       "      <td>483087.000000</td>\n",
       "      <td>483087.000000</td>\n",
       "      <td>483087.000000</td>\n",
       "      <td>483087.000000</td>\n",
       "      <td>483087.000000</td>\n",
       "      <td>...</td>\n",
       "      <td>483087.0</td>\n",
       "      <td>483087.0</td>\n",
       "      <td>483087.0</td>\n",
       "      <td>483087.0</td>\n",
       "      <td>483087.0</td>\n",
       "      <td>483087.000000</td>\n",
       "      <td>483087.000000</td>\n",
       "      <td>483087.000000</td>\n",
       "      <td>483087.000000</td>\n",
       "      <td>483087.000000</td>\n",
       "    </tr>\n",
       "    <tr>\n",
       "      <th>mean</th>\n",
       "      <td>6.432500e+04</td>\n",
       "      <td>8.694979</td>\n",
       "      <td>14.723370</td>\n",
       "      <td>16.512246</td>\n",
       "      <td>0.882677</td>\n",
       "      <td>0.000931</td>\n",
       "      <td>0.006039</td>\n",
       "      <td>0.057191</td>\n",
       "      <td>15.625227</td>\n",
       "      <td>5.072804</td>\n",
       "      <td>...</td>\n",
       "      <td>0.0</td>\n",
       "      <td>0.0</td>\n",
       "      <td>0.0</td>\n",
       "      <td>0.0</td>\n",
       "      <td>0.0</td>\n",
       "      <td>0.199587</td>\n",
       "      <td>0.188066</td>\n",
       "      <td>0.200283</td>\n",
       "      <td>0.206543</td>\n",
       "      <td>0.205522</td>\n",
       "    </tr>\n",
       "    <tr>\n",
       "      <th>std</th>\n",
       "      <td>8.274382e+04</td>\n",
       "      <td>7.663331</td>\n",
       "      <td>3.884063</td>\n",
       "      <td>3.419381</td>\n",
       "      <td>0.074125</td>\n",
       "      <td>0.126356</td>\n",
       "      <td>0.316582</td>\n",
       "      <td>1.009599</td>\n",
       "      <td>54.717685</td>\n",
       "      <td>51.920355</td>\n",
       "      <td>...</td>\n",
       "      <td>0.0</td>\n",
       "      <td>0.0</td>\n",
       "      <td>0.0</td>\n",
       "      <td>0.0</td>\n",
       "      <td>0.0</td>\n",
       "      <td>0.399691</td>\n",
       "      <td>0.390765</td>\n",
       "      <td>0.400212</td>\n",
       "      <td>0.404825</td>\n",
       "      <td>0.404083</td>\n",
       "    </tr>\n",
       "    <tr>\n",
       "      <th>min</th>\n",
       "      <td>1.000000e+02</td>\n",
       "      <td>0.750100</td>\n",
       "      <td>8.560000</td>\n",
       "      <td>11.030000</td>\n",
       "      <td>0.014472</td>\n",
       "      <td>-0.282800</td>\n",
       "      <td>-0.376794</td>\n",
       "      <td>-0.447306</td>\n",
       "      <td>-100.000000</td>\n",
       "      <td>-98.512600</td>\n",
       "      <td>...</td>\n",
       "      <td>0.0</td>\n",
       "      <td>0.0</td>\n",
       "      <td>0.0</td>\n",
       "      <td>0.0</td>\n",
       "      <td>0.0</td>\n",
       "      <td>0.000000</td>\n",
       "      <td>0.000000</td>\n",
       "      <td>0.000000</td>\n",
       "      <td>0.000000</td>\n",
       "      <td>0.000000</td>\n",
       "    </tr>\n",
       "    <tr>\n",
       "      <th>25%</th>\n",
       "      <td>1.827700e+04</td>\n",
       "      <td>3.066100</td>\n",
       "      <td>12.185000</td>\n",
       "      <td>14.470000</td>\n",
       "      <td>0.829080</td>\n",
       "      <td>-0.004491</td>\n",
       "      <td>-0.012296</td>\n",
       "      <td>-0.056864</td>\n",
       "      <td>-25.806450</td>\n",
       "      <td>-46.403100</td>\n",
       "      <td>...</td>\n",
       "      <td>0.0</td>\n",
       "      <td>0.0</td>\n",
       "      <td>0.0</td>\n",
       "      <td>0.0</td>\n",
       "      <td>0.0</td>\n",
       "      <td>0.000000</td>\n",
       "      <td>0.000000</td>\n",
       "      <td>0.000000</td>\n",
       "      <td>0.000000</td>\n",
       "      <td>0.000000</td>\n",
       "    </tr>\n",
       "    <tr>\n",
       "      <th>50%</th>\n",
       "      <td>3.808900e+04</td>\n",
       "      <td>6.710000</td>\n",
       "      <td>13.880000</td>\n",
       "      <td>15.870000</td>\n",
       "      <td>0.875907</td>\n",
       "      <td>0.000000</td>\n",
       "      <td>-0.001529</td>\n",
       "      <td>-0.013844</td>\n",
       "      <td>0.000000</td>\n",
       "      <td>30.918470</td>\n",
       "      <td>...</td>\n",
       "      <td>0.0</td>\n",
       "      <td>0.0</td>\n",
       "      <td>0.0</td>\n",
       "      <td>0.0</td>\n",
       "      <td>0.0</td>\n",
       "      <td>0.000000</td>\n",
       "      <td>0.000000</td>\n",
       "      <td>0.000000</td>\n",
       "      <td>0.000000</td>\n",
       "      <td>0.000000</td>\n",
       "    </tr>\n",
       "    <tr>\n",
       "      <th>75%</th>\n",
       "      <td>7.881850e+04</td>\n",
       "      <td>10.750000</td>\n",
       "      <td>16.210000</td>\n",
       "      <td>17.970000</td>\n",
       "      <td>0.924817</td>\n",
       "      <td>0.004076</td>\n",
       "      <td>0.009375</td>\n",
       "      <td>0.030864</td>\n",
       "      <td>69.047620</td>\n",
       "      <td>55.477690</td>\n",
       "      <td>...</td>\n",
       "      <td>0.0</td>\n",
       "      <td>0.0</td>\n",
       "      <td>0.0</td>\n",
       "      <td>0.0</td>\n",
       "      <td>0.0</td>\n",
       "      <td>0.000000</td>\n",
       "      <td>0.000000</td>\n",
       "      <td>0.000000</td>\n",
       "      <td>0.000000</td>\n",
       "      <td>0.000000</td>\n",
       "    </tr>\n",
       "    <tr>\n",
       "      <th>max</th>\n",
       "      <td>2.991357e+06</td>\n",
       "      <td>47.040000</td>\n",
       "      <td>53.290000</td>\n",
       "      <td>988.820000</td>\n",
       "      <td>1.555507</td>\n",
       "      <td>23.237838</td>\n",
       "      <td>22.981174</td>\n",
       "      <td>24.353770</td>\n",
       "      <td>100.000000</td>\n",
       "      <td>99.880010</td>\n",
       "      <td>...</td>\n",
       "      <td>0.0</td>\n",
       "      <td>0.0</td>\n",
       "      <td>0.0</td>\n",
       "      <td>0.0</td>\n",
       "      <td>0.0</td>\n",
       "      <td>1.000000</td>\n",
       "      <td>1.000000</td>\n",
       "      <td>1.000000</td>\n",
       "      <td>1.000000</td>\n",
       "      <td>1.000000</td>\n",
       "    </tr>\n",
       "  </tbody>\n",
       "</table>\n",
       "<p>8 rows × 162 columns</p>\n",
       "</div>"
      ],
      "text/plain": [
       "                 A1             B1             C1             D1  \\\n",
       "count  4.830870e+05  483087.000000  483087.000000  483087.000000   \n",
       "mean   6.432500e+04       8.694979      14.723370      16.512246   \n",
       "std    8.274382e+04       7.663331       3.884063       3.419381   \n",
       "min    1.000000e+02       0.750100       8.560000      11.030000   \n",
       "25%    1.827700e+04       3.066100      12.185000      14.470000   \n",
       "50%    3.808900e+04       6.710000      13.880000      15.870000   \n",
       "75%    7.881850e+04      10.750000      16.210000      17.970000   \n",
       "max    2.991357e+06      47.040000      53.290000     988.820000   \n",
       "\n",
       "                  E1             F1             G1             H1  \\\n",
       "count  483087.000000  483087.000000  483087.000000  483087.000000   \n",
       "mean        0.882677       0.000931       0.006039       0.057191   \n",
       "std         0.074125       0.126356       0.316582       1.009599   \n",
       "min         0.014472      -0.282800      -0.376794      -0.447306   \n",
       "25%         0.829080      -0.004491      -0.012296      -0.056864   \n",
       "50%         0.875907       0.000000      -0.001529      -0.013844   \n",
       "75%         0.924817       0.004076       0.009375       0.030864   \n",
       "max         1.555507      23.237838      22.981174      24.353770   \n",
       "\n",
       "                  I1             J1  ...  T6_missing  U6_missing  V6_missing  \\\n",
       "count  483087.000000  483087.000000  ...    483087.0    483087.0    483087.0   \n",
       "mean       15.625227       5.072804  ...         0.0         0.0         0.0   \n",
       "std        54.717685      51.920355  ...         0.0         0.0         0.0   \n",
       "min      -100.000000     -98.512600  ...         0.0         0.0         0.0   \n",
       "25%       -25.806450     -46.403100  ...         0.0         0.0         0.0   \n",
       "50%         0.000000      30.918470  ...         0.0         0.0         0.0   \n",
       "75%        69.047620      55.477690  ...         0.0         0.0         0.0   \n",
       "max       100.000000      99.880010  ...         0.0         0.0         0.0   \n",
       "\n",
       "       W6_missing  X6_missing           Z2_1           Z2_2           Z2_3  \\\n",
       "count    483087.0    483087.0  483087.000000  483087.000000  483087.000000   \n",
       "mean          0.0         0.0       0.199587       0.188066       0.200283   \n",
       "std           0.0         0.0       0.399691       0.390765       0.400212   \n",
       "min           0.0         0.0       0.000000       0.000000       0.000000   \n",
       "25%           0.0         0.0       0.000000       0.000000       0.000000   \n",
       "50%           0.0         0.0       0.000000       0.000000       0.000000   \n",
       "75%           0.0         0.0       0.000000       0.000000       0.000000   \n",
       "max           0.0         0.0       1.000000       1.000000       1.000000   \n",
       "\n",
       "                Z2_4           Z2_5  \n",
       "count  483087.000000  483087.000000  \n",
       "mean        0.206543       0.205522  \n",
       "std         0.404825       0.404083  \n",
       "min         0.000000       0.000000  \n",
       "25%         0.000000       0.000000  \n",
       "50%         0.000000       0.000000  \n",
       "75%         0.000000       0.000000  \n",
       "max         1.000000       1.000000  \n",
       "\n",
       "[8 rows x 162 columns]"
      ]
     },
     "execution_count": 8,
     "metadata": {},
     "output_type": "execute_result"
    }
   ],
   "source": [
    "data.describe()"
   ]
  },
  {
   "cell_type": "code",
   "execution_count": 9,
   "metadata": {},
   "outputs": [
    {
     "data": {
      "text/plain": [
       "(483087, 162)"
      ]
     },
     "execution_count": 9,
     "metadata": {},
     "output_type": "execute_result"
    }
   ],
   "source": [
    "data.shape"
   ]
  },
  {
   "cell_type": "markdown",
   "metadata": {},
   "source": [
    "### Visuals of distribution"
   ]
  },
  {
   "cell_type": "code",
   "execution_count": null,
   "metadata": {},
   "outputs": [],
   "source": [
    "### NOTE: To loop through multiple columns:\n",
    "\n",
    "for i in df.columns:\n",
    "    ...\n",
    "    \n",
    "# OR in a list of columns:\n",
    "\n",
    "for column in df[['col1', 'col2']]:\n",
    "    i = df[column]\n",
    "    sns.kdeplot(i, color = 'g')\n",
    "\n",
    "    # NOTE: unfortunately this will use the same plot for all of the columns\n",
    "    # unsure how to separate\n",
    "\n"
   ]
  },
  {
   "cell_type": "code",
   "execution_count": 17,
   "metadata": {},
   "outputs": [
    {
     "data": {
      "text/plain": [
       "<matplotlib.axes._subplots.AxesSubplot at 0x1cbb781bd30>"
      ]
     },
     "execution_count": 17,
     "metadata": {},
     "output_type": "execute_result"
    },
    {
     "data": {
      "image/png": "[encoded data removed]",
      "text/plain": [
       "<Figure size 432x288 with 1 Axes>"
      ]
     },
     "metadata": {
      "needs_background": "light"
     },
     "output_type": "display_data"
    }
   ],
   "source": [
    "import seaborn as sns\n",
    "y = data['A1']\n",
    "sns.kdeplot(y, color='g')"
   ]
  },
  {
   "cell_type": "code",
   "execution_count": 19,
   "metadata": {},
   "outputs": [
    {
     "data": {
      "image/png": "[encoded data removed]",
      "text/plain": [
       "<Figure size 432x288 with 2 Axes>"
      ]
     },
     "metadata": {
      "needs_background": "light"
     },
     "output_type": "display_data"
    }
   ],
   "source": [
    "# example with boxplot and median and mean indicated\n",
    "\n",
    "from matplotlib import pyplot as plt\n",
    "import pandas as pd\n",
    "import seaborn as sns\n",
    "\n",
    "f, (ax_box, ax_hist) = plt.subplots(2, sharex=True, gridspec_kw= {\"height_ratios\": (0.2, 1)})\n",
    "mean=y.mean()\n",
    "median=y.median()\n",
    "\n",
    "sns.boxplot(y, ax=ax_box)\n",
    "ax_box.axvline(mean, color='r', linestyle='--')\n",
    "ax_box.axvline(median, color='g', linestyle='-')\n",
    "\n",
    "sns.distplot(y, ax=ax_hist)\n",
    "ax_hist.axvline(mean, color='r', linestyle='--')\n",
    "ax_hist.axvline(median, color='g', linestyle='-')\n",
    "\n",
    "plt.legend({'Mean':mean,'Median':median})\n",
    "\n",
    "ax_box.set(xlabel='')\n",
    "plt.show()"
   ]
  },
  {
   "cell_type": "code",
   "execution_count": 26,
   "metadata": {},
   "outputs": [
    {
     "data": {
      "text/plain": [
       "(array([0, 1, 2, 3, 4]), <a list of 5 Text xticklabel objects>)"
      ]
     },
     "execution_count": 26,
     "metadata": {},
     "output_type": "execute_result"
    },
    {
     "data": {
      "image/png": "[encoded data removed]",
      "text/plain": [
       "<Figure size 432x288 with 1 Axes>"
      ]
     },
     "metadata": {
      "needs_background": "light"
     },
     "output_type": "display_data"
    }
   ],
   "source": [
    "# Bar Chart for categorical\n",
    "\n",
    "sns.countplot(x='Z2', data = data, order= \n",
    "              data['Z2'].value_counts().iloc[:10].index)\n",
    "plt.xticks(rotation=90)"
   ]
  },
  {
   "cell_type": "markdown",
   "metadata": {},
   "source": [
    "### Random"
   ]
  },
  {
   "cell_type": "code",
   "execution_count": null,
   "metadata": {},
   "outputs": [],
   "source": [
    "# check unique values for columns that need binning\n",
    "\n",
    "tblAccSub.WEATHER.unique()\n",
    "\n",
    "# combine similar values\n",
    "\n",
    "tblAccSub['WEATHER'] = tblAccSub['WEATHER'].replace(['Not Reported', 'Unknown'], 'NA')"
   ]
  }
 ],
 "metadata": {
  "kernelspec": {
   "display_name": "Python 3",
   "language": "python",
   "name": "python3"
  },
  "language_info": {
   "codemirror_mode": {
    "name": "ipython",
    "version": 3
   },
   "file_extension": ".py",
   "mimetype": "text/x-python",
   "name": "python",
   "nbconvert_exporter": "python",
   "pygments_lexer": "ipython3",
   "version": "3.7.3"
  }
 },
 "nbformat": 4,
 "nbformat_minor": 2
}
